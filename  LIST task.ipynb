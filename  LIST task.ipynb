{
 "cells": [
  {
   "cell_type": "markdown",
   "id": "e296fccb",
   "metadata": {},
   "source": [
    "    POP Function"
   ]
  },
  {
   "cell_type": "code",
   "execution_count": null,
   "id": "8958f2dc",
   "metadata": {},
   "outputs": [],
   "source": [
    "Pop function removes element at a specific index from the list.\n"
   ]
  },
  {
   "cell_type": "code",
   "execution_count": 2,
   "id": "43f65099",
   "metadata": {},
   "outputs": [],
   "source": [
    "f1=[23,34,45,56]"
   ]
  },
  {
   "cell_type": "code",
   "execution_count": 3,
   "id": "178c82c8",
   "metadata": {},
   "outputs": [
    {
     "name": "stdout",
     "output_type": "stream",
     "text": [
      "[23, 34, 45, 56]\n"
     ]
    }
   ],
   "source": [
    "print(f1)"
   ]
  },
  {
   "cell_type": "code",
   "execution_count": 4,
   "id": "0cfb8d13",
   "metadata": {},
   "outputs": [
    {
     "data": {
      "text/plain": [
       "56"
      ]
     },
     "execution_count": 4,
     "metadata": {},
     "output_type": "execute_result"
    }
   ],
   "source": [
    "f1.pop()"
   ]
  },
  {
   "cell_type": "code",
   "execution_count": 5,
   "id": "d3fcde3b",
   "metadata": {},
   "outputs": [
    {
     "data": {
      "text/plain": [
       "34"
      ]
     },
     "execution_count": 5,
     "metadata": {},
     "output_type": "execute_result"
    }
   ],
   "source": [
    "f1.pop(1)"
   ]
  },
  {
   "cell_type": "markdown",
   "id": "18e57de3",
   "metadata": {},
   "source": [
    " APPEND FUNCTION\n",
    "\n",
    "The append function method is used to add element at the end of the list."
   ]
  },
  {
   "cell_type": "code",
   "execution_count": 8,
   "id": "8c2c1ae7",
   "metadata": {},
   "outputs": [],
   "source": [
    "L1=[1,4,5,6,7,8,9,2]"
   ]
  },
  {
   "cell_type": "code",
   "execution_count": 9,
   "id": "f6367f0e",
   "metadata": {},
   "outputs": [
    {
     "name": "stdout",
     "output_type": "stream",
     "text": [
      "[1, 4, 5, 6, 7, 8, 9, 2]\n"
     ]
    }
   ],
   "source": [
    "print(L1)\n"
   ]
  },
  {
   "cell_type": "code",
   "execution_count": 11,
   "id": "f5d8b1ab",
   "metadata": {},
   "outputs": [],
   "source": [
    "L1.append(20)"
   ]
  },
  {
   "cell_type": "code",
   "execution_count": 12,
   "id": "80fa0fc7",
   "metadata": {},
   "outputs": [
    {
     "name": "stdout",
     "output_type": "stream",
     "text": [
      "[1, 4, 5, 6, 7, 8, 9, 2, 20]\n"
     ]
    }
   ],
   "source": [
    "print(L1)"
   ]
  },
  {
   "cell_type": "markdown",
   "id": "e111e10a",
   "metadata": {},
   "source": [
    "INSERT FUNCTION\n",
    "Insert function method inserts an item at a specific index in a list."
   ]
  },
  {
   "cell_type": "code",
   "execution_count": 17,
   "id": "2cb343bd",
   "metadata": {},
   "outputs": [],
   "source": [
    "bikes=[\"honda\",\"bajaj\",\"hero\"]"
   ]
  },
  {
   "cell_type": "code",
   "execution_count": 19,
   "id": "14e1f6d9",
   "metadata": {},
   "outputs": [
    {
     "name": "stdout",
     "output_type": "stream",
     "text": [
      "['honda', 'bajaj', 'hero']\n"
     ]
    }
   ],
   "source": [
    "print(bikes)"
   ]
  },
  {
   "cell_type": "code",
   "execution_count": 22,
   "id": "1676132f",
   "metadata": {},
   "outputs": [],
   "source": [
    "bikes.insert(4,\"Ducati\")"
   ]
  },
  {
   "cell_type": "code",
   "execution_count": 24,
   "id": "723bb480",
   "metadata": {},
   "outputs": [
    {
     "name": "stdout",
     "output_type": "stream",
     "text": [
      "['honda', 'bajaj', 'hero', 'Ducati']\n"
     ]
    }
   ],
   "source": [
    "print(bikes)"
   ]
  },
  {
   "cell_type": "markdown",
   "id": "0f1014ec",
   "metadata": {},
   "source": [
    " SORT FUNCTION\n",
    "Sort function method sort the element of a list. It sorts in ascending order or descending order."
   ]
  },
  {
   "cell_type": "code",
   "execution_count": 25,
   "id": "b8db94b5",
   "metadata": {},
   "outputs": [],
   "source": [
    "l2=[22,23,45,30,13,14,50,98]\n"
   ]
  },
  {
   "cell_type": "code",
   "execution_count": 26,
   "id": "99f40385",
   "metadata": {},
   "outputs": [
    {
     "name": "stdout",
     "output_type": "stream",
     "text": [
      "[22, 23, 45, 30, 13, 14, 50, 98]\n"
     ]
    }
   ],
   "source": [
    "print(l2)"
   ]
  },
  {
   "cell_type": "code",
   "execution_count": 32,
   "id": "2a7483c2",
   "metadata": {},
   "outputs": [],
   "source": [
    "l2.sort()"
   ]
  },
  {
   "cell_type": "code",
   "execution_count": 33,
   "id": "8706407a",
   "metadata": {},
   "outputs": [
    {
     "name": "stdout",
     "output_type": "stream",
     "text": [
      "[13, 14, 22, 23, 30, 45, 50, 98]\n"
     ]
    }
   ],
   "source": [
    "print(l2)"
   ]
  },
  {
   "cell_type": "markdown",
   "id": "f67a11ce",
   "metadata": {},
   "source": [
    "MIN FUNCTION\n",
    "Min function returns the smallest element."
   ]
  },
  {
   "cell_type": "code",
   "execution_count": 34,
   "id": "6534a058",
   "metadata": {},
   "outputs": [],
   "source": [
    "A1=[1,2,4,5,6,7,8,5,]"
   ]
  },
  {
   "cell_type": "code",
   "execution_count": 38,
   "id": "da6c9215",
   "metadata": {},
   "outputs": [
    {
     "data": {
      "text/plain": [
       "1"
      ]
     },
     "execution_count": 38,
     "metadata": {},
     "output_type": "execute_result"
    }
   ],
   "source": [
    "min(A1)"
   ]
  },
  {
   "cell_type": "markdown",
   "id": "d3c47925",
   "metadata": {},
   "source": [
    "MAX FUNCTION\n",
    "Max function return the largest element."
   ]
  },
  {
   "cell_type": "code",
   "execution_count": 39,
   "id": "c879d236",
   "metadata": {},
   "outputs": [],
   "source": [
    "A1=[1,2,4,5,6,7,8,5,]"
   ]
  },
  {
   "cell_type": "code",
   "execution_count": 40,
   "id": "82f54e85",
   "metadata": {},
   "outputs": [
    {
     "data": {
      "text/plain": [
       "8"
      ]
     },
     "execution_count": 40,
     "metadata": {},
     "output_type": "execute_result"
    }
   ],
   "source": [
    "max(A1)"
   ]
  },
  {
   "cell_type": "markdown",
   "id": "00dd60c8",
   "metadata": {},
   "source": [
    "REMOVE FUNCTION\n",
    "The remove function method removes a given element from the list."
   ]
  },
  {
   "cell_type": "code",
   "execution_count": 41,
   "id": "eac617a6",
   "metadata": {},
   "outputs": [],
   "source": [
    "bikes=[\"honda\",\"bajaj\",\"hero\"]"
   ]
  },
  {
   "cell_type": "code",
   "execution_count": 42,
   "id": "3fb3612d",
   "metadata": {},
   "outputs": [],
   "source": [
    "bikes.remove(\"honda\")"
   ]
  },
  {
   "cell_type": "code",
   "execution_count": 43,
   "id": "63ffdeca",
   "metadata": {},
   "outputs": [
    {
     "name": "stdout",
     "output_type": "stream",
     "text": [
      "['bajaj', 'hero']\n"
     ]
    }
   ],
   "source": [
    "print(bikes)"
   ]
  },
  {
   "cell_type": "code",
   "execution_count": null,
   "id": "24ddc089",
   "metadata": {},
   "outputs": [],
   "source": []
  }
 ],
 "metadata": {
  "kernelspec": {
   "display_name": "Python 3 (ipykernel)",
   "language": "python",
   "name": "python3"
  },
  "language_info": {
   "codemirror_mode": {
    "name": "ipython",
    "version": 3
   },
   "file_extension": ".py",
   "mimetype": "text/x-python",
   "name": "python",
   "nbconvert_exporter": "python",
   "pygments_lexer": "ipython3",
   "version": "3.10.9"
  }
 },
 "nbformat": 4,
 "nbformat_minor": 5
}
